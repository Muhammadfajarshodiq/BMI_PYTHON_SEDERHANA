{
 "cells": [
  {
   "cell_type": "code",
   "execution_count": 17,
   "metadata": {},
   "outputs": [
    {
     "name": "stdout",
     "output_type": "stream",
     "text": [
      "SELAMAT DATANG DI PROGRAM SEDERHANA BMI\n",
      "Masukan berat badan anda (kg)   : 60\n",
      "Masukan tinggi badan anda (cm)  : 164\n",
      "Hasil BMI anda :  21.951219512195124 (ket = normal)\n"
     ]
    }
   ],
   "source": [
    "print (\"SELAMAT DATANG DI PROGRAM SEDERHANA BMI\")\n",
    "berat = float(input(\"Masukan berat badan anda (kg)   : \"))\n",
    "tinggi = float(input(\"Masukan tinggi badan anda (cm)  : \"))\n",
    "total = (berat*berat)/tinggi\n",
    "if total < 17 :\n",
    "    print (\"Hasil BMI anda : \",total, \"(ket = kurus)\")\n",
    "elif total < 27 :\n",
    "    print (\"Hasil BMI anda : \",total, \"(ket = normal)\")\n",
    "elif total > 27:\n",
    "    print (\"Hasil BMI anda : \",total, \"(ket = gemuk)\")\n",
    "    "
   ]
  },
  {
   "cell_type": "code",
   "execution_count": null,
   "metadata": {},
   "outputs": [],
   "source": []
  }
 ],
 "metadata": {
  "kernelspec": {
   "display_name": "Python 3",
   "language": "python",
   "name": "python3"
  },
  "language_info": {
   "codemirror_mode": {
    "name": "ipython",
    "version": 3
   },
   "file_extension": ".py",
   "mimetype": "text/x-python",
   "name": "python",
   "nbconvert_exporter": "python",
   "pygments_lexer": "ipython3",
   "version": "3.7.1"
  }
 },
 "nbformat": 4,
 "nbformat_minor": 2
}
